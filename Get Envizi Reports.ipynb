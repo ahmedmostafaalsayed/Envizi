{
 "cells": [
  {
   "cell_type": "code",
   "execution_count": 1,
   "metadata": {},
   "outputs": [],
   "source": [
    "import json\n",
    "import pandas as pd\n",
    "import requests"
   ]
  },
  {
   "cell_type": "markdown",
   "metadata": {},
   "source": [
    "# Envizi API server\n",
    "See [Envizi API Technical Documentation](https://knowledgebase.envizi.com/home/envizi-api-technical-documentation)."
   ]
  },
  {
   "cell_type": "code",
   "execution_count": 6,
   "metadata": {},
   "outputs": [],
   "source": [
    "# Read the API access token from this file\n",
    "with open('API_access_token.json') as file:\n",
    "\ttoken = file.read()\n",
    "\n",
    "server = \"ukapi\"\t# Envizi server of UK\n",
    "root_url = f\"https://{server}.envizi.com/api\"\n",
    "url = f\"{root_url}/meta/Reports\"\n",
    "headers = {\"Authorization\": f\"Bearer {token}\"}\n",
    "response = requests.request(\"GET\", url, headers=headers)\n",
    "\n",
    "# If failed display the error message\n",
    "if response.status_code != 200:\n",
    "\tprint(response.text)"
   ]
  },
  {
   "cell_type": "code",
   "execution_count": 17,
   "metadata": {},
   "outputs": [],
   "source": [
    "# Extract report names\n",
    "report_objects = json.loads(response.text)\n",
    "#report_names = [report[\"name\"] for report in report_objects]\n",
    "df = pd.DataFrame.from_dict(report_objects)"
   ]
  },
  {
   "cell_type": "markdown",
   "metadata": {},
   "source": [
    "# Save the list of reports"
   ]
  },
  {
   "cell_type": "code",
   "execution_count": 18,
   "metadata": {},
   "outputs": [],
   "source": [
    "# Write the name column only\n",
    "df.to_excel(f\"Envizi reports - {server}.xlsx\", columns=[\"name\"], index=False, freeze_panes=(1,0), sheet_name=\"Reports\")"
   ]
  }
 ],
 "metadata": {
  "kernelspec": {
   "display_name": "Python 3",
   "language": "python",
   "name": "python3"
  },
  "language_info": {
   "codemirror_mode": {
    "name": "ipython",
    "version": 3
   },
   "file_extension": ".py",
   "mimetype": "text/x-python",
   "name": "python",
   "nbconvert_exporter": "python",
   "pygments_lexer": "ipython3",
   "version": "3.12.1"
  },
  "orig_nbformat": 4,
  "vscode": {
   "interpreter": {
    "hash": "5238573367df39f7286bb46f9ff5f08f63a01a80960060ce41e3c79b190280fa"
   }
  }
 },
 "nbformat": 4,
 "nbformat_minor": 2
}
